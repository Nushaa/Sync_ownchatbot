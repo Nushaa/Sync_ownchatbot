{
 "cells": [
  {
   "cell_type": "code",
   "execution_count": null,
   "id": "76550693",
   "metadata": {},
   "outputs": [],
   "source": []
  },
  {
   "cell_type": "code",
   "execution_count": null,
   "id": "d7cec3d6",
   "metadata": {},
   "outputs": [],
   "source": []
  },
  {
   "cell_type": "code",
   "execution_count": null,
   "id": "089882d1",
   "metadata": {},
   "outputs": [
    {
     "name": "stdout",
     "output_type": "stream",
     "text": [
      "Welcome to Chatbot!\n",
      "Chatbot: How may i assist you today \n",
      "User: hi\n",
      "Chatbot: Hey! How can I help you today?\n",
      "User: can you complete task\n",
      "Chatbot: I'm glad you're satisfied!\n",
      "User: goodbye\n",
      "Chatbot: Goodbye!\n",
      "User: \n",
      "Chatbot: You're welcome!\n"
     ]
    }
   ],
   "source": [
    "import random\n",
    "successful_interactions = 0\n",
    "\n",
    "user_needs = [\"get information\", \"ask a question\", \"request assistance\"]\n",
    "\n",
    "chatbot_personality = {\n",
    "    \"greeting\": [\"Hello!\", \"Hi there!\", \"Hey!\"],\n",
    "    \"farewell\": [\"Goodbye!\", \"Bye!\", \"See you later!\"],\n",
    "    \"positive\": [\"Great\", \"Awesome\", \"Fantastic\"],\n",
    "    \"negative\": [\"I'm sorry.\", \"Apologies.\", \"My apologies.\"],\n",
    "    \"unknown\": [\"I'm not sure.\", \"I don't know.\", \"I can't answer that.\"]\n",
    "}\n",
    "\n",
    "chatbot_flow = {\n",
    "    \"greeting\": [\"Hello!\", \"Hi there!\", \"Hey! How can I help you today?\"],\n",
    "    \"farewell\": [\"Goodbye!\", \"Bye!\", \"See you later!\"],\n",
    "    \"positive\": [\"I'm glad you're satisfied!\", \"I'm happy to help!\", \"You're welcome!\"],\n",
    "    \"negative\": [\"I'm sorry to hear that.\", \"I'll do my best to improve.\", \"I apologize for any inconvenience.\"],\n",
    "    \"unknown\": [\"I'm sorry, I don't understand.\", \"Could you please rephrase that?\", \"I'm not sure how to respond.\"],\n",
    "    \"Info\": [\"A friendly chatbot is a conversational AI program that is designed to interact with users in a pleasant and helpful manner.It is programmed to understand and respond to user queries, provide information, and assist with tasks in a friendly and approachable way.\",\"Ask any Question you want.\"]\n",
    "}\n",
    "\n",
    "\n",
    "def get_user_input():\n",
    "    user_input = input(\"User: \")\n",
    "    return user_input.lower()\n",
    "\n",
    "\n",
    "def generate_chatbot_response(user_input):\n",
    "    chatbot_response = \"\"\n",
    "    user_input = user_input.lower()\n",
    "\n",
    "    \n",
    "    if any(need in user_input for need in user_needs):\n",
    "        chatbot_response = random.choice(chatbot_flow[\"Info\"])\n",
    "        global successful_interactions\n",
    "        successful_interactions += 1\n",
    "    elif \"hi\" in user_input or \"hello\" in user_input:\n",
    "        chatbot_response = random.choice(chatbot_flow[\"greeting\"])\n",
    "    elif \"Great\" in user_input or \"Awesome\" in user_input:\n",
    "        chatbot_response = random.choice(chatbot_flow[\"positive\"])\n",
    "    elif \"bye\" in user_input or \"goodbye\" in user_input:\n",
    "        chatbot_response = random.choice(chatbot_flow[\"farewell\"])\n",
    "    else:\n",
    "        chatbot_response = random.choice(chatbot_flow[\"positive\"])\n",
    "    return chatbot_response\n",
    "\n",
    "\n",
    "def start_chatbot():\n",
    "    \n",
    "    while True:\n",
    "        user_input = get_user_input()\n",
    "        if user_input == \"exit\":\n",
    "            break\n",
    "        chatbot_response = generate_chatbot_response(user_input)\n",
    "        print(\"Chatbot: \" + chatbot_response)\n",
    "\n",
    "\n",
    "print(\"Welcome to Chatbot!\")\n",
    "print(\"Chatbot: \" + \"How may i assist you today \")\n",
    "start_chatbot()\n",
    "\n",
    "\n",
    "print(\"Successful Interactions: \" + str(successful_interactions))"
   ]
  },
  {
   "cell_type": "code",
   "execution_count": null,
   "id": "281d0f6a",
   "metadata": {},
   "outputs": [],
   "source": []
  },
  {
   "cell_type": "code",
   "execution_count": null,
   "id": "f76bcf9c",
   "metadata": {},
   "outputs": [],
   "source": []
  },
  {
   "cell_type": "code",
   "execution_count": null,
   "id": "76fb1633",
   "metadata": {},
   "outputs": [],
   "source": []
  },
  {
   "cell_type": "code",
   "execution_count": null,
   "id": "de99aeb7",
   "metadata": {},
   "outputs": [],
   "source": []
  },
  {
   "cell_type": "code",
   "execution_count": null,
   "id": "e6f84b79",
   "metadata": {},
   "outputs": [],
   "source": []
  },
  {
   "cell_type": "code",
   "execution_count": null,
   "id": "1773e1b7",
   "metadata": {},
   "outputs": [],
   "source": []
  },
  {
   "cell_type": "code",
   "execution_count": null,
   "id": "98898a0b",
   "metadata": {},
   "outputs": [],
   "source": []
  },
  {
   "cell_type": "code",
   "execution_count": null,
   "id": "edf8243a",
   "metadata": {},
   "outputs": [],
   "source": []
  },
  {
   "cell_type": "code",
   "execution_count": null,
   "id": "318e335c",
   "metadata": {},
   "outputs": [],
   "source": []
  },
  {
   "cell_type": "code",
   "execution_count": null,
   "id": "e2402273",
   "metadata": {},
   "outputs": [],
   "source": []
  }
 ],
 "metadata": {
  "kernelspec": {
   "display_name": "Python 3",
   "language": "python",
   "name": "python3"
  },
  "language_info": {
   "codemirror_mode": {
    "name": "ipython",
    "version": 3
   },
   "file_extension": ".py",
   "mimetype": "text/x-python",
   "name": "python",
   "nbconvert_exporter": "python",
   "pygments_lexer": "ipython3",
   "version": "3.8.8"
  }
 },
 "nbformat": 4,
 "nbformat_minor": 5
}
